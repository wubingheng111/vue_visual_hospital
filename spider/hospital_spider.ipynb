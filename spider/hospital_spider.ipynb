{
 "cells": [
  {
   "cell_type": "markdown",
   "metadata": {},
   "source": [
    "# 爬取省份信息"
   ]
  },
  {
   "cell_type": "code",
   "execution_count": 2,
   "metadata": {},
   "outputs": [
    {
     "name": "stdout",
     "output_type": "stream",
     "text": [
      "['北京市', '上海市', '重庆市', '天津市', '江苏省', '广东省', '山东省', '辽宁省', '河北省', '河南省', '四川省', '黑龙江省', '山西省', '湖北省', '湖南省', '陕西省', '浙江省', '云南省', '吉林省', '安徽省', '广西壮族自治区', '江西省', '福建省', '新疆维吾尔自治区', '内蒙古自治区', '甘肃省', '贵州省', '海南省', '青海省', '宁夏回族自治区', '西藏自治区']\n"
     ]
    }
   ],
   "source": [
    "import requests\n",
    "from bs4 import BeautifulSoup\n",
    "\n",
    "def get_city_name(url):\n",
    "    response = requests.get(\n",
    "        url=url,\n",
    "        headers={\n",
    "        \"User-Agent\": \"Mozilla/5.0 (Windows NT 10.0; Win64; x64) AppleWebKit/537.36 (KHTML, like Gecko) Chrome/126.0.0.0 Safari/537.36\"\n",
    "        },\n",
    "    )\n",
    "    str_html = response.text\n",
    "    soup = BeautifulSoup(str_html, \"html.parser\")\n",
    "    list_a = soup.findAll(name=\"span\",attrs={\"class\":\"mw-headline\"})\n",
    "    place_name = []\n",
    "    for i in list_a:\n",
    "        place_name.append(i.get_text())\n",
    "        city_names = place_name[2:33]\n",
    "    return city_names\n",
    "\n",
    "url = \"https://www.yixue.com/%E5%85%A8%E5%9B%BD%E5%8C%BB%E9%99%A2%E5%88%97%E8%A1%A8#.E6.BE.B3.E9.97.A8.E5.8C.BB.E9.99.A2.E5.88.97.E8.A1.A8\"\n",
    "city_names = get_city_name(url)\n",
    "print(city_names)"
   ]
  },
  {
   "cell_type": "markdown",
   "metadata": {},
   "source": [
    "# 根据city_name构建新的ulr"
   ]
  },
  {
   "cell_type": "code",
   "execution_count": 4,
   "metadata": {},
   "outputs": [
    {
     "name": "stdout",
     "output_type": "stream",
     "text": [
      "北京市医院数据汇总.xls 已保存成功。\n",
      "上海市医院数据汇总.xls 已保存成功。\n",
      "重庆市医院数据汇总.xls 已保存成功。\n",
      "天津市医院数据汇总.xls 已保存成功。\n",
      "江苏省医院数据汇总.xls 已保存成功。\n",
      "广东省医院数据汇总.xls 已保存成功。\n",
      "山东省医院数据汇总.xls 已保存成功。\n",
      "辽宁省医院数据汇总.xls 已保存成功。\n",
      "河北省医院数据汇总.xls 已保存成功。\n",
      "河南省医院数据汇总.xls 已保存成功。\n",
      "四川省医院数据汇总.xls 已保存成功。\n",
      "黑龙江省医院数据汇总.xls 已保存成功。\n",
      "山西省医院数据汇总.xls 已保存成功。\n",
      "湖北省医院数据汇总.xls 已保存成功。\n",
      "湖南省医院数据汇总.xls 已保存成功。\n",
      "陕西省医院数据汇总.xls 已保存成功。\n",
      "浙江省医院数据汇总.xls 已保存成功。\n",
      "云南省医院数据汇总.xls 已保存成功。\n",
      "吉林省医院数据汇总.xls 已保存成功。\n",
      "安徽省医院数据汇总.xls 已保存成功。\n",
      "广西壮族自治区医院数据汇总.xls 已保存成功。\n",
      "江西省医院数据汇总.xls 已保存成功。\n",
      "福建省医院数据汇总.xls 已保存成功。\n",
      "新疆维吾尔自治区医院数据汇总.xls 已保存成功。\n",
      "内蒙古自治区医院数据汇总.xls 已保存成功。\n",
      "甘肃省医院数据汇总.xls 已保存成功。\n",
      "贵州省医院数据汇总.xls 已保存成功。\n",
      "海南省医院数据汇总.xls 已保存成功。\n",
      "青海省医院数据汇总.xls 已保存成功。\n",
      "宁夏回族自治区医院数据汇总.xls 已保存成功。\n",
      "西藏自治区医院数据汇总.xls 已保存成功。\n"
     ]
    }
   ],
   "source": [
    "from bs4 import BeautifulSoup\n",
    "from itertools import zip_longest\n",
    "import requests\n",
    "import lxml\n",
    "import xlwt\n",
    "\n",
    "url = \"https://www.yixue.com/\"\n",
    "\n",
    "for city_name in city_names:\n",
    "    # 创建一个Excel工作簿和工作表\n",
    "    workbook = xlwt.Workbook()\n",
    "    sheet = workbook.add_sheet(city_name)\n",
    "    \n",
    "    # 设置表头\n",
    "    headers = ['医院名称', '医院地址', '联系电话', '医院等级', '重点科室', '经营方式']\n",
    "    for col, header in enumerate(headers):\n",
    "        sheet.write(0, col, header)\n",
    "    \n",
    "    # 生成请求的URL\n",
    "    new_url = url + city_name + \"医院列表\"\n",
    "    response = requests.get(\n",
    "        url=new_url,\n",
    "        headers={\n",
    "            \"User-Agent\": \"Mozilla/5.0 (Windows NT 10.0; Win64; x64) AppleWebKit/537.36 (KHTML, like Gecko) Chrome/126.0.0.0 Safari/537.36\"\n",
    "        },\n",
    "    )\n",
    "    \n",
    "    # 解析HTML页面\n",
    "    soup = BeautifulSoup(response.text, 'lxml')\n",
    "    \n",
    "    # 提取医院名称\n",
    "    hospital_names = [tag.text for tag in soup.find_all('a', title=True)]\n",
    "    # hospital_names = []\n",
    "    # for tag in soup.find_all('a', title=True, href=True):  # 添加href的限制条件\n",
    "    #     href = tag['href']  # 获取href属性\n",
    "    #     if href.endswith('A2'):  # 检查href是否以'A2'结尾\n",
    "    #         name = tag['title']  # 获取title属性作为医院名称\n",
    "    #         hospital_names.append(name)\n",
    "    # print(hospital_names)\n",
    "    \n",
    "    # 获取医院信息\n",
    "    hospital_information = soup.find_all('b')\n",
    "    # print(hospital_information)\n",
    "    \n",
    "\n",
    "    # 提取医院地址\n",
    "\n",
    "    hospital_addresses = [tag.parent.text.split('：')[1] for tag in hospital_information if tag.text == '医院地址']\n",
    "    # print(hospital_addresses)\n",
    "    \n",
    "    # 提取联系电话\n",
    "    hospital_phones = [tag.parent.text.split('：')[1] for tag in hospital_information if tag.text == '联系电话']\n",
    "    \n",
    "    # 提取医院等级\n",
    "    hospital_levels = [tag.parent.text.split('：')[1] for tag in hospital_information if tag.text == '医院等级']\n",
    "    \n",
    "    # 提取重点科室\n",
    "    hospital_departments = [tag.parent.text.split('：')[1] for tag in hospital_information if tag.text == '重点科室']\n",
    "    \n",
    "    # 提取经营方式\n",
    "    hospital_operations = [tag.parent.text.split('：')[1] for tag in hospital_information if tag.text == '经营方式']\n",
    "    \n",
    "    # 将数据组合并写入Excel表，缺失信息填充为空字符串\n",
    "    hospital_data = zip_longest(\n",
    "        hospital_names, hospital_addresses, hospital_phones, \n",
    "        hospital_levels, hospital_departments, hospital_operations, \n",
    "        fillvalue=''\n",
    "    )\n",
    "    \n",
    "    # 写入数据到Excel表\n",
    "    for row, data in enumerate(hospital_data, start=1):\n",
    "        for col, value in enumerate(data):\n",
    "            sheet.write(row, col, value)\n",
    "    \n",
    "    # 保存Excel文件\n",
    "    excel_filename = f\"{city_name}医院数据汇总.xls\"\n",
    "    workbook.save('中国医院数据汇总/'+ excel_filename)\n",
    "    \n",
    "    print(f\"{excel_filename} 已保存成功。\")"
   ]
  }
 ],
 "metadata": {
  "kernelspec": {
   "display_name": "test1",
   "language": "python",
   "name": "python3"
  },
  "language_info": {
   "codemirror_mode": {
    "name": "ipython",
    "version": 3
   },
   "file_extension": ".py",
   "mimetype": "text/x-python",
   "name": "python",
   "nbconvert_exporter": "python",
   "pygments_lexer": "ipython3",
   "version": "3.11.9"
  }
 },
 "nbformat": 4,
 "nbformat_minor": 2
}
